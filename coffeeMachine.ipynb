{
 "cells": [
  {
   "cell_type": "code",
   "execution_count": 2,
   "metadata": {},
   "outputs": [
    {
     "name": "stdout",
     "output_type": "stream",
     "text": [
      "The coffee machine has:\n",
      "400 of water\n",
      "540 of milk\n",
      "120 of coffee beans\n",
      "9 of disposable cups\n",
      "550 of money\n"
     ]
    }
   ],
   "source": [
    "print(\"The coffee machine has:\")\n",
    "print(\"400 of water\")\n",
    "print(\"540 of milk\")\n",
    "print(\"120 of coffee beans\")\n",
    "print(\"9 of disposable cups\")\n",
    "print(\"550 of money\")"
   ]
  },
  {
   "cell_type": "code",
   "execution_count": 3,
   "metadata": {},
   "outputs": [],
   "source": [
    "water = 400 ; milk = 540; coffee = 120 ; disposable = 9 ; money = 550"
   ]
  },
  {
   "cell_type": "code",
   "execution_count": null,
   "metadata": {},
   "outputs": [],
   "source": []
  },
  {
   "cell_type": "code",
   "execution_count": 64,
   "metadata": {},
   "outputs": [],
   "source": [
    "def remaining(water,milk,coffee,disposable,money):\n",
    "    print(\"The coffee machine has:\")\n",
    "    print(water,\" of water\")\n",
    "    print(milk,\" of milk\")\n",
    "    print(coffee,\" of coffee beans\")\n",
    "    print(disposable,\" of disposable cups\")\n",
    "    print(\"$\",money,\" of money\")\n",
    "    \n",
    "def espresso(water, milk, coffee, disposable, money):\n",
    "    water = water-250\n",
    "    coffee = coffee-16\n",
    "    disposable = disposable -1 \n",
    "    money = money + 4\n",
    "    return water, milk, coffee, disposable, money\n",
    "\n",
    "def latte(water, milk, coffee, disposable, money):\n",
    "    water = water-350\n",
    "    milk = milk -75\n",
    "    coffee = coffee-20\n",
    "    disposable = disposable -1 \n",
    "    money = money + 7\n",
    "    return water, milk, coffee, disposable, money\n",
    "\n",
    "def cappuccino(water, milk, coffee, disposable, money):\n",
    "    water = water-200\n",
    "    milk = milk -100\n",
    "    coffee = coffee-12\n",
    "    disposable = disposable -1 \n",
    "    money = money + 6\n",
    "    return water, milk, coffee, disposable, money\n",
    "\n",
    "def check_condition(water, milk, coffee, disposable, money):\n",
    "    test = 0\n",
    "    if water >= 350 :\n",
    "            if coffee >= 20:\n",
    "                if milk >= 100:\n",
    "                    print(\"I have enough resources, making you a coffee!\")\n",
    "                    test = 1\n",
    "                    return water, milk, coffee, disposable, money, test\n",
    "                else:\n",
    "                    print(\"Sorry, not enough milk!\")\n",
    "                    test = 0\n",
    "                    return water, milk, coffee, disposable, money, test\n",
    "            else:\n",
    "                print(\"Sorry, not enough coffee!\")\n",
    "                test = 0\n",
    "                return water, milk, coffee, disposable, money, test\n",
    "    else:\n",
    "        print(\"Sorry, not enough water!\")\n",
    "        test = 0\n",
    "        return water, milk, coffee, disposable, money, test\n",
    "    \n",
    "def buy(water, milk, coffee, disposable, money):\n",
    "    print(\"What do you want to buy? 1 - espresso, 2 - latte, 3 - cappuccino, back - to main menu:\")\n",
    "    value2 = input(\"> \")\n",
    "    if value2 == \"back\":\n",
    "        value2 = 4\n",
    "    if int(value2) == 1:\n",
    "        water, milk, coffee, disposable, money, test = check_condition(water, milk, coffee, disposable, money)\n",
    "        if test == 1:\n",
    "            water, milk, coffee, disposable, money = espresso(water, milk, coffee, disposable, money)\n",
    "        return water, milk, coffee, disposable, money\n",
    "                 \n",
    "    elif int(value2) == 2:\n",
    "        water, milk, coffee, disposable, money, test = check_condition(water, milk, coffee, disposable, money)\n",
    "        if test == 1:\n",
    "            water, milk, coffee, disposable, money = latte(water, milk, coffee, disposable, money)\n",
    "        return water, milk, coffee, disposable, money\n",
    "    \n",
    "    elif int(value2) == 3:\n",
    "        water, milk, coffee, disposable, money, test = check_condition(water, milk, coffee, disposable, money)\n",
    "        if test == 1:\n",
    "            water, milk, coffee, disposable, money = cappuccino(water, milk, coffee, disposable, money)\n",
    "        return water, milk, coffee, disposable, money\n",
    "    else:\n",
    "        return water, milk, coffee, disposable, money\n",
    "            \n",
    "def fill(water, milk, coffee, disposable, money):\n",
    "    print(\"Write how many ml of water do you want to add:\")\n",
    "    value3 = int(input(\"> \"))\n",
    "    water = water + value3\n",
    "    print(\"Write how many ml of milk do you want to add:\")\n",
    "    value3 = int(input(\"> \"))\n",
    "    milk = milk + value3\n",
    "    print(\"Write how many grams of coffee beans do you want to add:\")\n",
    "    value3 = int(input(\"> \"))\n",
    "    coffee = coffee + value3\n",
    "    print(\"Write how many disposable cups of coffee do you want to add:\")\n",
    "    value3 = int(input(\"> \"))\n",
    "    disposable = disposable + value3\n",
    "    #print(water, milk, coffee, disposable, money)\n",
    "    return water, milk, coffee, disposable, money\n",
    "    \n",
    "def take(water, milk, coffee, disposable, money):\n",
    "    print(\"I gave you $\", money)\n",
    "    money = 0\n",
    "    return water, milk, coffee, disposable, money\n",
    "    \n"
   ]
  },
  {
   "cell_type": "code",
   "execution_count": 65,
   "metadata": {},
   "outputs": [
    {
     "name": "stdout",
     "output_type": "stream",
     "text": [
      "Write action (buy, fill, take, remaining, exit):\n",
      "> buy\n",
      "What do you want to buy? 1 - espresso, 2 - latte, 3 - cappuccino, back - to main menu:\n",
      "> back\n",
      "Write action (buy, fill, take, remaining, exit):\n",
      "> exit\n"
     ]
    }
   ],
   "source": [
    "water = 400 ; milk = 540; coffee = 120 ; disposable = 9 ; money = 550\n",
    "\n",
    "while 1:\n",
    "    print(\"Write action (buy, fill, take, remaining, exit):\")\n",
    "    value = input(\"> \")\n",
    "    if value == \"remaining\":\n",
    "        remaining(water, milk, coffee, disposable, money)\n",
    "    if value == \"buy\":\n",
    "        water, milk, coffee, disposable, money = buy(water, milk, coffee, disposable, money)\n",
    "    if value == \"fill\":\n",
    "        water, milk, coffee, disposable, money = fill(water, milk, coffee, disposable, money)\n",
    "    if value == \"take\":\n",
    "        water, milk, coffee, disposable, money = take(water, milk, coffee, disposable, money)\n",
    "    if value == \"exit\":\n",
    "        break;  "
   ]
  },
  {
   "cell_type": "code",
   "execution_count": null,
   "metadata": {},
   "outputs": [],
   "source": [
    "\n"
   ]
  },
  {
   "cell_type": "code",
   "execution_count": null,
   "metadata": {},
   "outputs": [],
   "source": []
  }
 ],
 "metadata": {
  "kernelspec": {
   "display_name": "Python 3",
   "language": "python",
   "name": "python3"
  },
  "language_info": {
   "codemirror_mode": {
    "name": "ipython",
    "version": 3
   },
   "file_extension": ".py",
   "mimetype": "text/x-python",
   "name": "python",
   "nbconvert_exporter": "python",
   "pygments_lexer": "ipython3",
   "version": "3.6.9"
  }
 },
 "nbformat": 4,
 "nbformat_minor": 4
}
